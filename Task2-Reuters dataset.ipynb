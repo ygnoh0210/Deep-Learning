{
  "cells": [
    {
      "cell_type": "markdown",
      "metadata": {
        "id": "2I9CL34L1tGt"
      },
      "source": [
        "# News Data Multi-classification"
      ]
    },
    {
      "cell_type": "markdown",
      "metadata": {
        "id": "EegzL56jVlSl"
      },
      "source": [
        "Reuters News dataset\n",
        "- news article which can categorized into 46 subjects"
      ]
    },
    {
      "cell_type": "markdown",
      "metadata": {},
      "source": [
        "1. load the dataset"
      ]
    },
    {
      "cell_type": "code",
      "execution_count": null,
      "metadata": {
        "colab": {
          "base_uri": "https://localhost:8080/"
        },
        "id": "4a6mMEa41vju",
        "outputId": "97241bfb-7857-47e4-8a47-7485e34b5004"
      },
      "outputs": [
        {
          "name": "stdout",
          "output_type": "stream",
          "text": [
            "Downloading data from https://storage.googleapis.com/tensorflow/tf-keras-datasets/reuters.npz\n",
            "2113536/2110848 [==============================] - 0s 0us/step\n",
            "2121728/2110848 [==============================] - 0s 0us/step\n"
          ]
        }
      ],
      "source": [
        "import keras\n",
        "from keras.datasets import reuters\n",
        "\n",
        "(train_data, train_labels), (test_data, test_labels)=reuters.load_data(num_words=10000)\n",
        "# train : test = 8 :2"
      ]
    },
    {
      "cell_type": "code",
      "execution_count": null,
      "metadata": {
        "id": "ZZcTSFfD2E0b"
      },
      "outputs": [],
      "source": [
        "word_index=reuters.get_word_index()\n",
        "reverse_word_index=dict([(value, key)for (key, value) in word_index.items()])\n",
        "\n",
        "decoded_newswire = ' '.join([reverse_word_index.get(i - 3, '?') for i in train_data[0]])"
      ]
    },
    {
      "cell_type": "markdown",
      "metadata": {
        "id": "ePHh-j0A2tV_"
      },
      "source": [
        "2. Preparing the data"
      ]
    },
    {
      "cell_type": "code",
      "execution_count": null,
      "metadata": {
        "id": "j2OW68WR2ti-"
      },
      "outputs": [],
      "source": [
        "import numpy as np\n",
        "\n",
        "def vectorize_sequences(sequences, dimension=10000):\n",
        "    results = np.zeros((len(sequences), dimension))\n",
        "    for i, sequence in enumerate(sequences):\n",
        "        results[i, sequence] = 1.\n",
        "    return results\n",
        "\n",
        "x_train = vectorize_sequences(train_data)\n",
        "x_test = vectorize_sequences(test_data)"
      ]
    },
    {
      "cell_type": "code",
      "execution_count": null,
      "metadata": {
        "id": "4_V7RkS74jjO"
      },
      "outputs": [],
      "source": [
        "def to_one_hot(labels, dimension=46):\n",
        "    results = np.zeros((len(labels), dimension))\n",
        "    for i, label in enumerate(labels):\n",
        "        results[i, label] = 1.\n",
        "    return results\n",
        "\n",
        "# Our vectorized training labels\n",
        "one_hot_train_labels = to_one_hot(train_labels)\n",
        "# Our vectorized test labels\n",
        "one_hot_test_labels = to_one_hot(test_labels)"
      ]
    },
    {
      "cell_type": "code",
      "execution_count": null,
      "metadata": {
        "id": "maBZJ8Jx4l3G"
      },
      "outputs": [],
      "source": [
        "from keras.utils.np_utils import to_categorical\n",
        "\n",
        "one_hot_train_labels = to_categorical(train_labels)\n",
        "one_hot_test_labels = to_categorical(test_labels)"
      ]
    },
    {
      "cell_type": "markdown",
      "metadata": {
        "id": "cotfN7oG4sDA"
      },
      "source": [
        "3. Building network"
      ]
    },
    {
      "cell_type": "code",
      "execution_count": null,
      "metadata": {
        "id": "FyIJUfte4qUl"
      },
      "outputs": [],
      "source": [
        "from keras import models\n",
        "from keras import layers\n",
        "\n",
        "model = models.Sequential()\n",
        "model.add(layers.Dense(64, activation='relu', input_shape=(10000,)))\n",
        "model.add(layers.Dense(64, activation='relu'))\n",
        "model.add(layers.Dense(46, activation='softmax'))"
      ]
    },
    {
      "cell_type": "code",
      "execution_count": null,
      "metadata": {
        "id": "zC4Se2k940oL"
      },
      "outputs": [],
      "source": [
        "model.compile(optimizer='rmsprop',\n",
        "              loss='categorical_crossentropy',\n",
        "              metrics=['accuracy'])\n"
      ]
    },
    {
      "cell_type": "markdown",
      "metadata": {
        "id": "fXLB8zbb44g8"
      },
      "source": [
        "4. Validating "
      ]
    },
    {
      "cell_type": "code",
      "execution_count": null,
      "metadata": {
        "id": "12N9me0o46Ru"
      },
      "outputs": [],
      "source": [
        "x_val = x_train[:1000]\n",
        "partial_x_train = x_train[1000:]\n",
        "\n",
        "y_val = one_hot_train_labels[:1000]\n",
        "partial_y_train = one_hot_train_labels[1000:]"
      ]
    },
    {
      "cell_type": "code",
      "execution_count": null,
      "metadata": {
        "colab": {
          "base_uri": "https://localhost:8080/"
        },
        "id": "0nVYkvCe5Akl",
        "outputId": "0bc6b5dd-294c-4da9-8bb3-688591e84bc0"
      },
      "outputs": [
        {
          "name": "stdout",
          "output_type": "stream",
          "text": [
            "Epoch 1/20\n",
            "16/16 [==============================] - 2s 66ms/step - loss: 2.6407 - accuracy: 0.5101 - val_loss: 1.6939 - val_accuracy: 0.6450\n",
            "Epoch 2/20\n",
            "16/16 [==============================] - 1s 49ms/step - loss: 1.3962 - accuracy: 0.7012 - val_loss: 1.2848 - val_accuracy: 0.7040\n",
            "Epoch 3/20\n",
            "16/16 [==============================] - 1s 48ms/step - loss: 1.0423 - accuracy: 0.7747 - val_loss: 1.1146 - val_accuracy: 0.7510\n",
            "Epoch 4/20\n",
            "16/16 [==============================] - 1s 49ms/step - loss: 0.8198 - accuracy: 0.8232 - val_loss: 1.0241 - val_accuracy: 0.7880\n",
            "Epoch 5/20\n",
            "16/16 [==============================] - 1s 49ms/step - loss: 0.6518 - accuracy: 0.8657 - val_loss: 0.9394 - val_accuracy: 0.8050\n",
            "Epoch 6/20\n",
            "16/16 [==============================] - 1s 48ms/step - loss: 0.5207 - accuracy: 0.8904 - val_loss: 0.9368 - val_accuracy: 0.8080\n",
            "Epoch 7/20\n",
            "16/16 [==============================] - 1s 48ms/step - loss: 0.4238 - accuracy: 0.9121 - val_loss: 0.8758 - val_accuracy: 0.8130\n",
            "Epoch 8/20\n",
            "16/16 [==============================] - 1s 49ms/step - loss: 0.3400 - accuracy: 0.9286 - val_loss: 0.8591 - val_accuracy: 0.8180\n",
            "Epoch 9/20\n",
            "16/16 [==============================] - 1s 49ms/step - loss: 0.2810 - accuracy: 0.9391 - val_loss: 0.8796 - val_accuracy: 0.8070\n",
            "Epoch 10/20\n",
            "16/16 [==============================] - 1s 49ms/step - loss: 0.2390 - accuracy: 0.9440 - val_loss: 0.8884 - val_accuracy: 0.8210\n",
            "Epoch 11/20\n",
            "16/16 [==============================] - 1s 48ms/step - loss: 0.2046 - accuracy: 0.9499 - val_loss: 0.9033 - val_accuracy: 0.8160\n",
            "Epoch 12/20\n",
            "16/16 [==============================] - 1s 48ms/step - loss: 0.1784 - accuracy: 0.9538 - val_loss: 0.9331 - val_accuracy: 0.8080\n",
            "Epoch 13/20\n",
            "16/16 [==============================] - 1s 48ms/step - loss: 0.1637 - accuracy: 0.9540 - val_loss: 0.9512 - val_accuracy: 0.8070\n",
            "Epoch 14/20\n",
            "16/16 [==============================] - 1s 50ms/step - loss: 0.1495 - accuracy: 0.9554 - val_loss: 0.9128 - val_accuracy: 0.8180\n",
            "Epoch 15/20\n",
            "16/16 [==============================] - 1s 48ms/step - loss: 0.1395 - accuracy: 0.9551 - val_loss: 0.9476 - val_accuracy: 0.8130\n",
            "Epoch 16/20\n",
            "16/16 [==============================] - 1s 49ms/step - loss: 0.1296 - accuracy: 0.9570 - val_loss: 0.9614 - val_accuracy: 0.8120\n",
            "Epoch 17/20\n",
            "16/16 [==============================] - 1s 49ms/step - loss: 0.1258 - accuracy: 0.9558 - val_loss: 1.0628 - val_accuracy: 0.7970\n",
            "Epoch 18/20\n",
            "16/16 [==============================] - 1s 48ms/step - loss: 0.1199 - accuracy: 0.9573 - val_loss: 1.0334 - val_accuracy: 0.8030\n",
            "Epoch 19/20\n",
            "16/16 [==============================] - 1s 48ms/step - loss: 0.1131 - accuracy: 0.9589 - val_loss: 1.0502 - val_accuracy: 0.7980\n",
            "Epoch 20/20\n",
            "16/16 [==============================] - 1s 48ms/step - loss: 0.1119 - accuracy: 0.9587 - val_loss: 1.0882 - val_accuracy: 0.8090\n"
          ]
        }
      ],
      "source": [
        "history = model.fit(partial_x_train,\n",
        "                    partial_y_train,\n",
        "                    epochs=20,\n",
        "                    batch_size=512,\n",
        "                    validation_data=(x_val, y_val))"
      ]
    },
    {
      "cell_type": "code",
      "execution_count": null,
      "metadata": {
        "colab": {
          "base_uri": "https://localhost:8080/",
          "height": 295
        },
        "id": "UB1tFl_n5G9d",
        "outputId": "0ac8894c-fc36-4f55-8780-a2b30138c619"
      },
      "outputs": [
        {
          "data": {
            "image/png": "[encoded data removed]",
            "text/plain": [
              "<Figure size 432x288 with 1 Axes>"
            ]
          },
          "metadata": {
            "needs_background": "light"
          },
          "output_type": "display_data"
        }
      ],
      "source": [
        "import matplotlib.pyplot as plt\n",
        "\n",
        "loss = history.history['loss']\n",
        "val_loss = history.history['val_loss']\n",
        "\n",
        "epochs = range(1, len(loss) + 1)\n",
        "\n",
        "plt.plot(epochs, loss, 'bo', label='Training loss')\n",
        "plt.plot(epochs, val_loss, 'b', label='Validation loss')\n",
        "plt.title('Training and validation loss')\n",
        "plt.xlabel('Epochs')\n",
        "plt.ylabel('Loss')\n",
        "plt.legend()\n",
        "\n",
        "plt.show()"
      ]
    },
    {
      "cell_type": "code",
      "execution_count": null,
      "metadata": {
        "colab": {
          "base_uri": "https://localhost:8080/",
          "height": 295
        },
        "id": "UUyYMlyP5Keb",
        "outputId": "917fb010-d577-490b-95d0-ddf90738a95d"
      },
      "outputs": [
        {
          "data": {
            "image/png": "[encoded data removed]",
            "text/plain": [
              "<Figure size 432x288 with 1 Axes>"
            ]
          },
          "metadata": {
            "needs_background": "light"
          },
          "output_type": "display_data"
        }
      ],
      "source": [
        "plt.clf()  \n",
        "\n",
        "acc = history.history['accuracy']\n",
        "val_acc = history.history['val_accuracy']\n",
        "\n",
        "plt.plot(epochs, acc, 'bo', label='Training acc')\n",
        "plt.plot(epochs, val_acc, 'b', label='Validation acc')\n",
        "plt.title('Training and validation accuracy')\n",
        "plt.xlabel('Epochs')\n",
        "plt.ylabel('Loss')\n",
        "plt.legend()\n",
        "\n",
        "plt.show()"
      ]
    },
    {
      "cell_type": "code",
      "execution_count": null,
      "metadata": {
        "colab": {
          "base_uri": "https://localhost:8080/"
        },
        "id": "7aAbNHyu5jdW",
        "outputId": "3c1ab7c4-0b66-44bb-c7da-fba0e748e472"
      },
      "outputs": [
        {
          "name": "stdout",
          "output_type": "stream",
          "text": [
            "Epoch 1/8\n",
            "16/16 [==============================] - 1s 61ms/step - loss: 2.6848 - accuracy: 0.5198 - val_loss: 1.8124 - val_accuracy: 0.6310\n",
            "Epoch 2/8\n",
            "16/16 [==============================] - 1s 49ms/step - loss: 1.4781 - accuracy: 0.6929 - val_loss: 1.3345 - val_accuracy: 0.7030\n",
            "Epoch 3/8\n",
            "16/16 [==============================] - 1s 48ms/step - loss: 1.0811 - accuracy: 0.7684 - val_loss: 1.1439 - val_accuracy: 0.7570\n",
            "Epoch 4/8\n",
            "16/16 [==============================] - 1s 49ms/step - loss: 0.8438 - accuracy: 0.8269 - val_loss: 1.0442 - val_accuracy: 0.7850\n",
            "Epoch 5/8\n",
            "16/16 [==============================] - 1s 48ms/step - loss: 0.6699 - accuracy: 0.8637 - val_loss: 0.9608 - val_accuracy: 0.8060\n",
            "Epoch 6/8\n",
            "16/16 [==============================] - 1s 48ms/step - loss: 0.5297 - accuracy: 0.8955 - val_loss: 0.9537 - val_accuracy: 0.7920\n",
            "Epoch 7/8\n",
            "16/16 [==============================] - 1s 48ms/step - loss: 0.4257 - accuracy: 0.9123 - val_loss: 0.9043 - val_accuracy: 0.8130\n",
            "Epoch 8/8\n",
            "16/16 [==============================] - 1s 47ms/step - loss: 0.3452 - accuracy: 0.9237 - val_loss: 0.8985 - val_accuracy: 0.8140\n",
            "71/71 [==============================] - 0s 4ms/step - loss: 0.9780 - accuracy: 0.7836\n"
          ]
        }
      ],
      "source": [
        "model = models.Sequential()\n",
        "model.add(layers.Dense(64, activation='relu', input_shape=(10000,)))\n",
        "model.add(layers.Dense(64, activation='relu'))\n",
        "model.add(layers.Dense(46, activation='softmax'))\n",
        "\n",
        "model.compile(optimizer='rmsprop',\n",
        "              loss='categorical_crossentropy',\n",
        "              metrics=['accuracy'])\n",
        "model.fit(partial_x_train,\n",
        "          partial_y_train,\n",
        "          epochs=8,\n",
        "          batch_size=512,\n",
        "          validation_data=(x_val, y_val))\n",
        "results = model.evaluate(x_test, one_hot_test_labels)"
      ]
    },
    {
      "cell_type": "code",
      "execution_count": null,
      "metadata": {
        "colab": {
          "base_uri": "https://localhost:8080/"
        },
        "id": "-Jtjo3gt5rdz",
        "outputId": "fd5aaf61-a19a-4f7e-f89d-9db1016f7290"
      },
      "outputs": [
        {
          "data": {
            "text/plain": [
              "[0.9780339598655701, 0.7836152911186218]"
            ]
          },
          "execution_count": 20,
          "metadata": {},
          "output_type": "execute_result"
        }
      ],
      "source": [
        "results"
      ]
    },
    {
      "cell_type": "code",
      "execution_count": null,
      "metadata": {
        "colab": {
          "base_uri": "https://localhost:8080/"
        },
        "id": "3cH3oy-L5v47",
        "outputId": "a4b31248-282b-4ac5-defa-e8fb02b25152"
      },
      "outputs": [
        {
          "data": {
            "text/plain": [
              "0.1803205699020481"
            ]
          },
          "execution_count": 22,
          "metadata": {},
          "output_type": "execute_result"
        }
      ],
      "source": [
        "import copy\n",
        "\n",
        "test_labels_copy = copy.copy(test_labels)\n",
        "np.random.shuffle(test_labels_copy)\n",
        "float(np.sum(np.array(test_labels) == np.array(test_labels_copy))) / len(test_labels)"
      ]
    },
    {
      "cell_type": "markdown",
      "metadata": {
        "id": "OyZZ7y4n50nT"
      },
      "source": [
        "- Generating predictions on new data"
      ]
    },
    {
      "cell_type": "code",
      "execution_count": null,
      "metadata": {
        "id": "akHhGWjZ5393"
      },
      "outputs": [],
      "source": [
        "predictions = model.predict(x_test)"
      ]
    },
    {
      "cell_type": "code",
      "execution_count": null,
      "metadata": {
        "colab": {
          "base_uri": "https://localhost:8080/"
        },
        "id": "6HarF4db6xL7",
        "outputId": "bc965332-5ee7-4851-d977-67d407103a98"
      },
      "outputs": [
        {
          "data": {
            "text/plain": [
              "(46,)"
            ]
          },
          "execution_count": 25,
          "metadata": {},
          "output_type": "execute_result"
        }
      ],
      "source": [
        "predictions[0].shape"
      ]
    },
    {
      "cell_type": "code",
      "execution_count": null,
      "metadata": {
        "colab": {
          "base_uri": "https://localhost:8080/"
        },
        "id": "DteJD8Is6zQt",
        "outputId": "077a1616-1c9c-4279-9876-49889eadb35d"
      },
      "outputs": [
        {
          "data": {
            "text/plain": [
              "0.9999998"
            ]
          },
          "execution_count": 26,
          "metadata": {},
          "output_type": "execute_result"
        }
      ],
      "source": [
        "np.sum(predictions[0])"
      ]
    },
    {
      "cell_type": "code",
      "execution_count": null,
      "metadata": {
        "colab": {
          "base_uri": "https://localhost:8080/"
        },
        "id": "-gcZwgPa633S",
        "outputId": "cc414dc5-d2d1-469c-b101-88de93bbc8c5"
      },
      "outputs": [
        {
          "data": {
            "text/plain": [
              "3"
            ]
          },
          "execution_count": 27,
          "metadata": {},
          "output_type": "execute_result"
        }
      ],
      "source": [
        "np.argmax(predictions[0])"
      ]
    },
    {
      "cell_type": "markdown",
      "metadata": {
        "id": "cd4krobW673C"
      },
      "source": [
        "- A different way to handle the labels and the loss"
      ]
    },
    {
      "cell_type": "code",
      "execution_count": null,
      "metadata": {
        "id": "iwALFWNi7AZq"
      },
      "outputs": [],
      "source": [
        "y_train = np.array(train_labels)\n",
        "y_test = np.array(test_labels)"
      ]
    },
    {
      "cell_type": "code",
      "execution_count": null,
      "metadata": {
        "id": "l7SBBtgh7DZ3"
      },
      "outputs": [],
      "source": [
        "model.compile(optimizer='rmsprop', loss='sparse_categorical_crossentropy', metrics=['acc'])"
      ]
    },
    {
      "cell_type": "markdown",
      "metadata": {
        "id": "7tEDJBQ57Jay"
      },
      "source": [
        "- On the importance of having sufficiently large intermediate layers"
      ]
    },
    {
      "cell_type": "code",
      "execution_count": null,
      "metadata": {
        "colab": {
          "base_uri": "https://localhost:8080/"
        },
        "id": "-LnHN5RJ7IYE",
        "outputId": "4c67b36e-4428-4fd0-f3e1-2305d1dc84d6"
      },
      "outputs": [
        {
          "name": "stdout",
          "output_type": "stream",
          "text": [
            "Epoch 1/20\n",
            "63/63 [==============================] - 2s 21ms/step - loss: 2.6747 - accuracy: 0.3254 - val_loss: 1.9819 - val_accuracy: 0.5710\n",
            "Epoch 2/20\n",
            "63/63 [==============================] - 1s 18ms/step - loss: 1.6816 - accuracy: 0.5996 - val_loss: 1.5583 - val_accuracy: 0.6250\n",
            "Epoch 3/20\n",
            "63/63 [==============================] - 1s 18ms/step - loss: 1.3228 - accuracy: 0.6835 - val_loss: 1.4060 - val_accuracy: 0.6580\n",
            "Epoch 4/20\n",
            "63/63 [==============================] - 1s 19ms/step - loss: 1.1352 - accuracy: 0.7073 - val_loss: 1.3392 - val_accuracy: 0.6860\n",
            "Epoch 5/20\n",
            "63/63 [==============================] - 1s 23ms/step - loss: 1.0077 - accuracy: 0.7452 - val_loss: 1.3208 - val_accuracy: 0.6970\n",
            "Epoch 6/20\n",
            "63/63 [==============================] - 2s 29ms/step - loss: 0.9099 - accuracy: 0.7660 - val_loss: 1.3048 - val_accuracy: 0.7070\n",
            "Epoch 7/20\n",
            "63/63 [==============================] - 1s 19ms/step - loss: 0.8320 - accuracy: 0.7791 - val_loss: 1.3265 - val_accuracy: 0.7120\n",
            "Epoch 8/20\n",
            "63/63 [==============================] - 1s 18ms/step - loss: 0.7690 - accuracy: 0.7895 - val_loss: 1.3194 - val_accuracy: 0.7120\n",
            "Epoch 9/20\n",
            "63/63 [==============================] - 1s 18ms/step - loss: 0.7138 - accuracy: 0.8062 - val_loss: 1.3824 - val_accuracy: 0.7030\n",
            "Epoch 10/20\n",
            "63/63 [==============================] - 1s 18ms/step - loss: 0.6642 - accuracy: 0.8216 - val_loss: 1.3746 - val_accuracy: 0.7200\n",
            "Epoch 11/20\n",
            "63/63 [==============================] - 1s 18ms/step - loss: 0.6222 - accuracy: 0.8251 - val_loss: 1.4229 - val_accuracy: 0.7150\n",
            "Epoch 12/20\n",
            "63/63 [==============================] - 1s 18ms/step - loss: 0.5864 - accuracy: 0.8302 - val_loss: 1.4602 - val_accuracy: 0.7190\n",
            "Epoch 13/20\n",
            "63/63 [==============================] - 1s 18ms/step - loss: 0.5550 - accuracy: 0.8353 - val_loss: 1.5246 - val_accuracy: 0.7180\n",
            "Epoch 14/20\n",
            "63/63 [==============================] - 1s 18ms/step - loss: 0.5277 - accuracy: 0.8447 - val_loss: 1.5429 - val_accuracy: 0.7160\n",
            "Epoch 15/20\n",
            "63/63 [==============================] - 1s 18ms/step - loss: 0.5061 - accuracy: 0.8572 - val_loss: 1.5923 - val_accuracy: 0.7140\n",
            "Epoch 16/20\n",
            "63/63 [==============================] - 1s 18ms/step - loss: 0.4855 - accuracy: 0.8641 - val_loss: 1.6736 - val_accuracy: 0.7260\n",
            "Epoch 17/20\n",
            "63/63 [==============================] - 1s 18ms/step - loss: 0.4654 - accuracy: 0.8701 - val_loss: 1.6904 - val_accuracy: 0.7300\n",
            "Epoch 18/20\n",
            "63/63 [==============================] - 1s 18ms/step - loss: 0.4499 - accuracy: 0.8707 - val_loss: 1.7885 - val_accuracy: 0.7230\n",
            "Epoch 19/20\n",
            "63/63 [==============================] - 1s 18ms/step - loss: 0.4332 - accuracy: 0.8776 - val_loss: 1.7893 - val_accuracy: 0.7180\n",
            "Epoch 20/20\n",
            "63/63 [==============================] - 1s 18ms/step - loss: 0.4226 - accuracy: 0.8771 - val_loss: 1.8050 - val_accuracy: 0.7200\n"
          ]
        },
        {
          "data": {
            "text/plain": [
              "<keras.callbacks.History at 0x7fac4bd1ee10>"
            ]
          },
          "execution_count": 30,
          "metadata": {},
          "output_type": "execute_result"
        }
      ],
      "source": [
        "model = models.Sequential()\n",
        "model.add(layers.Dense(64, activation='relu', input_shape=(10000,)))\n",
        "model.add(layers.Dense(4, activation='relu'))\n",
        "model.add(layers.Dense(46, activation='softmax'))\n",
        "\n",
        "model.compile(optimizer='rmsprop',\n",
        "              loss='categorical_crossentropy',\n",
        "              metrics=['accuracy'])\n",
        "model.fit(partial_x_train,\n",
        "          partial_y_train,\n",
        "          epochs=20,\n",
        "          batch_size=128,\n",
        "          validation_data=(x_val, y_val))"
      ]
    },
    {
      "cell_type": "markdown",
      "metadata": {
        "id": "BSVPZ2k17kOJ"
      },
      "source": [
        "# Further experiments"
      ]
    },
    {
      "cell_type": "markdown",
      "metadata": {
        "id": "idoX4g129I2X"
      },
      "source": [
        "1. Single hidden layers"
      ]
    },
    {
      "cell_type": "code",
      "execution_count": null,
      "metadata": {
        "colab": {
          "base_uri": "https://localhost:8080/"
        },
        "id": "8haiT0RA9Hy2",
        "outputId": "a917def5-efa5-484f-fce5-1c1e10e7e04e"
      },
      "outputs": [
        {
          "name": "stdout",
          "output_type": "stream",
          "text": [
            "Epoch 1/20\n",
            "63/63 [==============================] - 2s 21ms/step - loss: 1.8415 - accuracy: 0.6429 - val_loss: 1.2078 - val_accuracy: 0.7400\n",
            "Epoch 2/20\n",
            "63/63 [==============================] - 1s 18ms/step - loss: 0.9291 - accuracy: 0.8053 - val_loss: 0.9659 - val_accuracy: 0.8040\n",
            "Epoch 3/20\n",
            "63/63 [==============================] - 1s 18ms/step - loss: 0.6323 - accuracy: 0.8712 - val_loss: 0.8537 - val_accuracy: 0.8130\n",
            "Epoch 4/20\n",
            "63/63 [==============================] - 1s 18ms/step - loss: 0.4530 - accuracy: 0.9064 - val_loss: 0.8064 - val_accuracy: 0.8300\n",
            "Epoch 5/20\n",
            "63/63 [==============================] - 1s 18ms/step - loss: 0.3391 - accuracy: 0.9263 - val_loss: 0.8019 - val_accuracy: 0.8250\n",
            "Epoch 6/20\n",
            "63/63 [==============================] - 1s 18ms/step - loss: 0.2628 - accuracy: 0.9391 - val_loss: 0.8094 - val_accuracy: 0.8270\n",
            "Epoch 7/20\n",
            "63/63 [==============================] - 1s 18ms/step - loss: 0.2173 - accuracy: 0.9445 - val_loss: 0.8319 - val_accuracy: 0.8200\n",
            "Epoch 8/20\n",
            "63/63 [==============================] - 1s 18ms/step - loss: 0.1842 - accuracy: 0.9503 - val_loss: 0.8484 - val_accuracy: 0.8320\n",
            "Epoch 9/20\n",
            "63/63 [==============================] - 1s 18ms/step - loss: 0.1608 - accuracy: 0.9539 - val_loss: 0.8443 - val_accuracy: 0.8250\n",
            "Epoch 10/20\n",
            "63/63 [==============================] - 1s 18ms/step - loss: 0.1462 - accuracy: 0.9557 - val_loss: 0.9056 - val_accuracy: 0.8120\n",
            "Epoch 11/20\n",
            "63/63 [==============================] - 1s 18ms/step - loss: 0.1339 - accuracy: 0.9560 - val_loss: 0.9400 - val_accuracy: 0.8100\n",
            "Epoch 12/20\n",
            "63/63 [==============================] - 1s 18ms/step - loss: 0.1292 - accuracy: 0.9564 - val_loss: 0.9348 - val_accuracy: 0.8110\n",
            "Epoch 13/20\n",
            "63/63 [==============================] - 1s 18ms/step - loss: 0.1234 - accuracy: 0.9557 - val_loss: 0.9982 - val_accuracy: 0.8160\n",
            "Epoch 14/20\n",
            "63/63 [==============================] - 1s 18ms/step - loss: 0.1184 - accuracy: 0.9570 - val_loss: 1.0325 - val_accuracy: 0.8050\n",
            "Epoch 15/20\n",
            "63/63 [==============================] - 1s 18ms/step - loss: 0.1146 - accuracy: 0.9564 - val_loss: 1.0300 - val_accuracy: 0.8180\n",
            "Epoch 16/20\n",
            "63/63 [==============================] - 1s 18ms/step - loss: 0.1095 - accuracy: 0.9573 - val_loss: 1.1064 - val_accuracy: 0.8120\n",
            "Epoch 17/20\n",
            "63/63 [==============================] - 1s 18ms/step - loss: 0.1106 - accuracy: 0.9584 - val_loss: 1.0936 - val_accuracy: 0.8050\n",
            "Epoch 18/20\n",
            "63/63 [==============================] - 1s 18ms/step - loss: 0.1091 - accuracy: 0.9564 - val_loss: 1.1545 - val_accuracy: 0.7930\n",
            "Epoch 19/20\n",
            "63/63 [==============================] - 1s 18ms/step - loss: 0.1025 - accuracy: 0.9587 - val_loss: 1.1351 - val_accuracy: 0.8000\n",
            "Epoch 20/20\n",
            "63/63 [==============================] - 1s 18ms/step - loss: 0.1040 - accuracy: 0.9564 - val_loss: 1.1616 - val_accuracy: 0.8080\n"
          ]
        },
        {
          "data": {
            "text/plain": [
              "<keras.callbacks.History at 0x7fac4c1e9950>"
            ]
          },
          "execution_count": 31,
          "metadata": {},
          "output_type": "execute_result"
        }
      ],
      "source": [
        "model = models.Sequential()\n",
        "model.add(layers.Dense(64, activation='relu', input_shape=(10000,)))\n",
        "model.add(layers.Dense(46, activation='softmax'))\n",
        "\n",
        "model.compile(optimizer='rmsprop',\n",
        "              loss='categorical_crossentropy',\n",
        "              metrics=['accuracy'])\n",
        "model.fit(partial_x_train,\n",
        "          partial_y_train,\n",
        "          epochs=20,\n",
        "          batch_size=128,\n",
        "          validation_data=(x_val, y_val))"
      ]
    },
    {
      "cell_type": "markdown",
      "metadata": {
        "id": "zuCITGAO9sTJ"
      },
      "source": [
        "2. Three hidden layers"
      ]
    },
    {
      "cell_type": "code",
      "execution_count": null,
      "metadata": {
        "colab": {
          "base_uri": "https://localhost:8080/"
        },
        "id": "eQhFR1sT901R",
        "outputId": "14d6ac12-e7f3-4857-ebf7-31c82a0b58dc"
      },
      "outputs": [
        {
          "name": "stdout",
          "output_type": "stream",
          "text": [
            "Epoch 1/20\n",
            "63/63 [==============================] - 3s 27ms/step - loss: 3.1979 - accuracy: 0.2347 - val_loss: 2.5276 - val_accuracy: 0.3840\n",
            "Epoch 2/20\n",
            "63/63 [==============================] - 1s 18ms/step - loss: 2.1799 - accuracy: 0.3842 - val_loss: 1.9822 - val_accuracy: 0.3850\n",
            "Epoch 3/20\n",
            "63/63 [==============================] - 1s 18ms/step - loss: 1.8010 - accuracy: 0.4535 - val_loss: 1.7621 - val_accuracy: 0.5490\n",
            "Epoch 4/20\n",
            "63/63 [==============================] - 1s 18ms/step - loss: 1.5846 - accuracy: 0.5980 - val_loss: 1.6604 - val_accuracy: 0.5870\n",
            "Epoch 5/20\n",
            "63/63 [==============================] - 1s 18ms/step - loss: 1.4522 - accuracy: 0.6111 - val_loss: 1.6062 - val_accuracy: 0.6010\n",
            "Epoch 6/20\n",
            "63/63 [==============================] - 1s 18ms/step - loss: 1.3693 - accuracy: 0.6235 - val_loss: 1.6022 - val_accuracy: 0.6150\n",
            "Epoch 7/20\n",
            "63/63 [==============================] - 1s 18ms/step - loss: 1.3119 - accuracy: 0.6438 - val_loss: 1.6565 - val_accuracy: 0.6030\n",
            "Epoch 8/20\n",
            "63/63 [==============================] - 1s 18ms/step - loss: 1.2628 - accuracy: 0.6587 - val_loss: 1.6890 - val_accuracy: 0.5910\n",
            "Epoch 9/20\n",
            "63/63 [==============================] - 1s 18ms/step - loss: 1.2251 - accuracy: 0.6665 - val_loss: 1.7212 - val_accuracy: 0.5980\n",
            "Epoch 10/20\n",
            "63/63 [==============================] - 1s 18ms/step - loss: 1.1901 - accuracy: 0.6720 - val_loss: 1.7332 - val_accuracy: 0.6000\n",
            "Epoch 11/20\n",
            "63/63 [==============================] - 1s 18ms/step - loss: 1.1599 - accuracy: 0.6850 - val_loss: 1.7812 - val_accuracy: 0.6020\n",
            "Epoch 12/20\n",
            "63/63 [==============================] - 1s 18ms/step - loss: 1.1348 - accuracy: 0.6883 - val_loss: 1.8416 - val_accuracy: 0.6040\n",
            "Epoch 13/20\n",
            "63/63 [==============================] - 1s 18ms/step - loss: 1.1106 - accuracy: 0.6931 - val_loss: 1.8481 - val_accuracy: 0.6040\n",
            "Epoch 14/20\n",
            "63/63 [==============================] - 1s 18ms/step - loss: 1.0882 - accuracy: 0.6986 - val_loss: 1.9451 - val_accuracy: 0.5990\n",
            "Epoch 15/20\n",
            "63/63 [==============================] - 1s 18ms/step - loss: 1.0666 - accuracy: 0.7013 - val_loss: 1.9650 - val_accuracy: 0.5980\n",
            "Epoch 16/20\n",
            "63/63 [==============================] - 1s 18ms/step - loss: 1.0477 - accuracy: 0.7077 - val_loss: 2.0645 - val_accuracy: 0.6010\n",
            "Epoch 17/20\n",
            "63/63 [==============================] - 1s 18ms/step - loss: 1.0326 - accuracy: 0.7114 - val_loss: 2.2106 - val_accuracy: 0.5940\n",
            "Epoch 18/20\n",
            "63/63 [==============================] - 1s 18ms/step - loss: 1.0149 - accuracy: 0.7194 - val_loss: 2.1664 - val_accuracy: 0.6020\n",
            "Epoch 19/20\n",
            "63/63 [==============================] - 1s 18ms/step - loss: 1.0028 - accuracy: 0.7233 - val_loss: 2.3209 - val_accuracy: 0.5900\n",
            "Epoch 20/20\n",
            "63/63 [==============================] - 1s 18ms/step - loss: 0.9878 - accuracy: 0.7284 - val_loss: 2.3024 - val_accuracy: 0.5940\n"
          ]
        },
        {
          "data": {
            "text/plain": [
              "<keras.callbacks.History at 0x7fac4bc6bed0>"
            ]
          },
          "execution_count": 32,
          "metadata": {},
          "output_type": "execute_result"
        }
      ],
      "source": [
        "model = models.Sequential()\n",
        "model.add(layers.Dense(64, activation='relu', input_shape=(10000,)))\n",
        "model.add(layers.Dense(4, activation='relu'))\n",
        "model.add(layers.Dense(4, activation='relu'))\n",
        "model.add(layers.Dense(46, activation='softmax'))\n",
        "\n",
        "model.compile(optimizer='rmsprop',\n",
        "              loss='categorical_crossentropy',\n",
        "              metrics=['accuracy'])\n",
        "model.fit(partial_x_train,\n",
        "          partial_y_train,\n",
        "          epochs=20,\n",
        "          batch_size=128,\n",
        "          validation_data=(x_val, y_val))"
      ]
    },
    {
      "cell_type": "markdown",
      "metadata": {
        "id": "87nhiFNu-Ktg"
      },
      "source": [
        "3. Using larger or smaller layers"
      ]
    },
    {
      "cell_type": "code",
      "execution_count": null,
      "metadata": {
        "colab": {
          "base_uri": "https://localhost:8080/"
        },
        "id": "CZ0VfsuP-M6Z",
        "outputId": "3a6f2ba7-eabb-41d3-92a9-8a2801a2cbc7"
      },
      "outputs": [
        {
          "name": "stdout",
          "output_type": "stream",
          "text": [
            "Epoch 1/20\n",
            "63/63 [==============================] - 1s 16ms/step - loss: 3.0239 - accuracy: 0.3148 - val_loss: 2.3255 - val_accuracy: 0.5300\n",
            "Epoch 2/20\n",
            "63/63 [==============================] - 1s 12ms/step - loss: 1.9194 - accuracy: 0.6060 - val_loss: 1.7000 - val_accuracy: 0.6280\n",
            "Epoch 3/20\n",
            "63/63 [==============================] - 1s 13ms/step - loss: 1.5297 - accuracy: 0.6446 - val_loss: 1.5399 - val_accuracy: 0.6350\n",
            "Epoch 4/20\n",
            "63/63 [==============================] - 1s 13ms/step - loss: 1.3675 - accuracy: 0.6606 - val_loss: 1.4634 - val_accuracy: 0.6490\n",
            "Epoch 5/20\n",
            "63/63 [==============================] - 1s 13ms/step - loss: 1.2443 - accuracy: 0.6756 - val_loss: 1.4151 - val_accuracy: 0.6510\n",
            "Epoch 6/20\n",
            "63/63 [==============================] - 1s 13ms/step - loss: 1.1386 - accuracy: 0.6896 - val_loss: 1.3563 - val_accuracy: 0.6620\n",
            "Epoch 7/20\n",
            "63/63 [==============================] - 1s 13ms/step - loss: 1.0402 - accuracy: 0.7319 - val_loss: 1.3337 - val_accuracy: 0.6910\n",
            "Epoch 8/20\n",
            "63/63 [==============================] - 1s 13ms/step - loss: 0.9561 - accuracy: 0.7729 - val_loss: 1.3205 - val_accuracy: 0.7070\n",
            "Epoch 9/20\n",
            "63/63 [==============================] - 1s 13ms/step - loss: 0.8846 - accuracy: 0.7894 - val_loss: 1.3082 - val_accuracy: 0.7130\n",
            "Epoch 10/20\n",
            "63/63 [==============================] - 1s 13ms/step - loss: 0.8258 - accuracy: 0.8016 - val_loss: 1.3329 - val_accuracy: 0.7150\n",
            "Epoch 11/20\n",
            "63/63 [==============================] - 1s 13ms/step - loss: 0.7763 - accuracy: 0.8083 - val_loss: 1.3370 - val_accuracy: 0.7210\n",
            "Epoch 12/20\n",
            "63/63 [==============================] - 1s 13ms/step - loss: 0.7322 - accuracy: 0.8192 - val_loss: 1.3573 - val_accuracy: 0.7200\n",
            "Epoch 13/20\n",
            "63/63 [==============================] - 1s 13ms/step - loss: 0.6949 - accuracy: 0.8216 - val_loss: 1.3823 - val_accuracy: 0.7160\n",
            "Epoch 14/20\n",
            "63/63 [==============================] - 1s 12ms/step - loss: 0.6611 - accuracy: 0.8281 - val_loss: 1.4136 - val_accuracy: 0.7140\n",
            "Epoch 15/20\n",
            "63/63 [==============================] - 1s 13ms/step - loss: 0.6297 - accuracy: 0.8343 - val_loss: 1.4535 - val_accuracy: 0.7180\n",
            "Epoch 16/20\n",
            "63/63 [==============================] - 1s 13ms/step - loss: 0.6025 - accuracy: 0.8394 - val_loss: 1.4988 - val_accuracy: 0.7110\n",
            "Epoch 17/20\n",
            "63/63 [==============================] - 1s 14ms/step - loss: 0.5773 - accuracy: 0.8433 - val_loss: 1.5505 - val_accuracy: 0.7180\n",
            "Epoch 18/20\n",
            "63/63 [==============================] - 1s 13ms/step - loss: 0.5551 - accuracy: 0.8470 - val_loss: 1.5794 - val_accuracy: 0.7170\n",
            "Epoch 19/20\n",
            "63/63 [==============================] - 1s 13ms/step - loss: 0.5325 - accuracy: 0.8540 - val_loss: 1.6295 - val_accuracy: 0.7140\n",
            "Epoch 20/20\n",
            "63/63 [==============================] - 1s 13ms/step - loss: 0.5137 - accuracy: 0.8604 - val_loss: 1.6809 - val_accuracy: 0.7120\n"
          ]
        },
        {
          "data": {
            "text/plain": [
              "<keras.callbacks.History at 0x7fac4b0c8450>"
            ]
          },
          "execution_count": 33,
          "metadata": {},
          "output_type": "execute_result"
        }
      ],
      "source": [
        "model = models.Sequential()\n",
        "model.add(layers.Dense(32, activation='relu', input_shape=(10000,)))\n",
        "model.add(layers.Dense(4, activation='relu'))\n",
        "model.add(layers.Dense(46, activation='softmax'))\n",
        "\n",
        "model.compile(optimizer='rmsprop',\n",
        "              loss='categorical_crossentropy',\n",
        "              metrics=['accuracy'])\n",
        "model.fit(partial_x_train,\n",
        "          partial_y_train,\n",
        "          epochs=20,\n",
        "          batch_size=128,\n",
        "          validation_data=(x_val, y_val))"
      ]
    },
    {
      "cell_type": "code",
      "execution_count": null,
      "metadata": {
        "colab": {
          "base_uri": "https://localhost:8080/"
        },
        "id": "sgxPoWTD-m6x",
        "outputId": "ac114a3f-91e0-4bd6-a11a-385977a36bf7"
      },
      "outputs": [
        {
          "name": "stdout",
          "output_type": "stream",
          "text": [
            "Epoch 1/20\n",
            "63/63 [==============================] - 2s 31ms/step - loss: 2.5784 - accuracy: 0.3860 - val_loss: 1.8830 - val_accuracy: 0.5720\n",
            "Epoch 2/20\n",
            "63/63 [==============================] - 2s 28ms/step - loss: 1.5670 - accuracy: 0.5978 - val_loss: 1.4905 - val_accuracy: 0.5970\n",
            "Epoch 3/20\n",
            "63/63 [==============================] - 2s 29ms/step - loss: 1.2623 - accuracy: 0.6566 - val_loss: 1.3656 - val_accuracy: 0.6500\n",
            "Epoch 4/20\n",
            "63/63 [==============================] - 2s 28ms/step - loss: 1.0886 - accuracy: 0.7190 - val_loss: 1.3173 - val_accuracy: 0.6770\n",
            "Epoch 5/20\n",
            "63/63 [==============================] - 2s 28ms/step - loss: 0.9542 - accuracy: 0.7543 - val_loss: 1.2959 - val_accuracy: 0.6900\n",
            "Epoch 6/20\n",
            "63/63 [==============================] - 2s 28ms/step - loss: 0.8514 - accuracy: 0.7734 - val_loss: 1.3334 - val_accuracy: 0.6870\n",
            "Epoch 7/20\n",
            "63/63 [==============================] - 2s 28ms/step - loss: 0.7751 - accuracy: 0.7900 - val_loss: 1.3749 - val_accuracy: 0.6970\n",
            "Epoch 8/20\n",
            "63/63 [==============================] - 2s 28ms/step - loss: 0.7121 - accuracy: 0.8116 - val_loss: 1.3983 - val_accuracy: 0.6860\n",
            "Epoch 9/20\n",
            "63/63 [==============================] - 2s 29ms/step - loss: 0.6581 - accuracy: 0.8240 - val_loss: 1.4312 - val_accuracy: 0.6990\n",
            "Epoch 10/20\n",
            "63/63 [==============================] - 2s 29ms/step - loss: 0.6144 - accuracy: 0.8358 - val_loss: 1.5022 - val_accuracy: 0.7130\n",
            "Epoch 11/20\n",
            "63/63 [==============================] - 2s 28ms/step - loss: 0.5777 - accuracy: 0.8419 - val_loss: 1.5635 - val_accuracy: 0.7020\n",
            "Epoch 12/20\n",
            "63/63 [==============================] - 2s 28ms/step - loss: 0.5452 - accuracy: 0.8505 - val_loss: 1.6712 - val_accuracy: 0.6920\n",
            "Epoch 13/20\n",
            "63/63 [==============================] - 2s 28ms/step - loss: 0.5185 - accuracy: 0.8525 - val_loss: 1.6996 - val_accuracy: 0.6940\n",
            "Epoch 14/20\n",
            "63/63 [==============================] - 2s 28ms/step - loss: 0.4968 - accuracy: 0.8568 - val_loss: 1.7915 - val_accuracy: 0.6950\n",
            "Epoch 15/20\n",
            "63/63 [==============================] - 2s 29ms/step - loss: 0.4746 - accuracy: 0.8588 - val_loss: 1.7535 - val_accuracy: 0.6840\n",
            "Epoch 16/20\n",
            "63/63 [==============================] - 2s 28ms/step - loss: 0.4570 - accuracy: 0.8602 - val_loss: 1.8301 - val_accuracy: 0.6860\n",
            "Epoch 17/20\n",
            "63/63 [==============================] - 2s 29ms/step - loss: 0.4386 - accuracy: 0.8648 - val_loss: 1.9401 - val_accuracy: 0.6910\n",
            "Epoch 18/20\n",
            "63/63 [==============================] - 2s 28ms/step - loss: 0.4250 - accuracy: 0.8720 - val_loss: 2.0892 - val_accuracy: 0.6820\n",
            "Epoch 19/20\n",
            "63/63 [==============================] - 2s 28ms/step - loss: 0.4107 - accuracy: 0.8779 - val_loss: 1.9984 - val_accuracy: 0.6910\n",
            "Epoch 20/20\n",
            "63/63 [==============================] - 2s 28ms/step - loss: 0.3939 - accuracy: 0.8817 - val_loss: 2.1784 - val_accuracy: 0.6930\n"
          ]
        },
        {
          "data": {
            "text/plain": [
              "<keras.callbacks.History at 0x7fac455ea290>"
            ]
          },
          "execution_count": 34,
          "metadata": {},
          "output_type": "execute_result"
        }
      ],
      "source": [
        "model = models.Sequential()\n",
        "model.add(layers.Dense(128, activation='relu', input_shape=(10000,)))\n",
        "model.add(layers.Dense(4, activation='relu'))\n",
        "model.add(layers.Dense(46, activation='softmax'))\n",
        "\n",
        "model.compile(optimizer='rmsprop',\n",
        "              loss='categorical_crossentropy',\n",
        "              metrics=['accuracy'])\n",
        "model.fit(partial_x_train,\n",
        "          partial_y_train,\n",
        "          epochs=20,\n",
        "          batch_size=128,\n",
        "          validation_data=(x_val, y_val))"
      ]
    }
  ],
  "metadata": {
    "colab": {
      "provenance": []
    },
    "kernelspec": {
      "display_name": "Python 3",
      "name": "python3"
    },
    "language_info": {
      "name": "python"
    }
  },
  "nbformat": 4,
  "nbformat_minor": 0
}
