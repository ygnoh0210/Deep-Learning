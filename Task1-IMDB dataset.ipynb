{
  "cells": [
    {
      "cell_type": "markdown",
      "metadata": {
        "id": "-FnYab81okBl"
      },
      "source": [
        "# Movie Review Binary Classification\n"
      ]
    },
    {
      "cell_type": "markdown",
      "metadata": {
        "id": "I9RU_ugzo6AF"
      },
      "source": [
        "IMDB dataset\n",
        "- sentimental text reviews of the movie\n",
        "- labeled opinions(positive 1, negative 0)\n",
        "- Binary labeled -> supervised learning"
      ]
    },
    {
      "cell_type": "markdown",
      "metadata": {},
      "source": [
        "1. Load Dataset"
      ]
    },
    {
      "cell_type": "code",
      "execution_count": 1,
      "metadata": {
        "colab": {
          "base_uri": "https://localhost:8080/"
        },
        "id": "-JJiNiVgkoiC",
        "outputId": "e1fc2694-79da-41e0-f3f2-4bd7e8e6c2be"
      },
      "outputs": [
        {
          "name": "stdout",
          "output_type": "stream",
          "text": [
            "Downloading data from https://storage.googleapis.com/tensorflow/tf-keras-datasets/imdb.npz\n",
            "17465344/17464789 [==============================] - 0s 0us/step\n",
            "17473536/17464789 [==============================] - 0s 0us/step\n"
          ]
        }
      ],
      "source": [
        "import keras\n",
        "from keras.datasets import imdb\n",
        "(train_data, train_labels),(test_data,test_labels)=imdb.load_data(num_words=10000)\n",
        "\n",
        "# num_words=top_words 리뷰에 등장하는 빈도수 높은 단어 "
      ]
    },
    {
      "cell_type": "markdown",
      "metadata": {
        "id": "FIDmGlD5pGXf"
      },
      "source": [
        "2. Data preprocessing"
      ]
    },
    {
      "cell_type": "code",
      "execution_count": 2,
      "metadata": {
        "id": "L_uJmEMpk3kA"
      },
      "outputs": [],
      "source": [
        "import numpy as np\n",
        "\n",
        "def vectorize_sequence(sequences, dimension=10000):\n",
        "    results=np.zeros((len(sequences),dimension))\n",
        "    for i ,sequence in enumerate(sequences):\n",
        "        results[i,sequence]=1.\n",
        "    return results\n",
        "\n",
        "x_train=vectorize_sequence(train_data)\n",
        "x_test=vectorize_sequence(test_data)\n",
        "y_train=np.asarray(train_labels).astype('float32')\n",
        "y_test=np.asarray(test_labels).astype('float32')"
      ]
    },
    {
      "cell_type": "markdown",
      "metadata": {
        "id": "mw_vKX4IpFUj"
      },
      "source": [
        "3. model building"
      ]
    },
    {
      "cell_type": "code",
      "execution_count": 3,
      "metadata": {
        "id": "uO8MtFb-k-GO"
      },
      "outputs": [],
      "source": [
        "from keras import models\n",
        "from keras import layers\n",
        "\n",
        "model=models.Sequential()\n",
        "model.add(layers.Dense(16,activation='relu',input_shape=(10000,)))\n",
        "model.add(layers.Dense(16,activation='relu'))\n",
        "model.add(layers.Dense(1,activation='sigmoid'))\n",
        "model.compile(optimizer='rmsprop',\n",
        "              loss='binary_crossentropy',\n",
        "              metrics=['accuracy'])"
      ]
    },
    {
      "cell_type": "markdown",
      "metadata": {
        "id": "Uz0Zdt85peOl"
      },
      "source": [
        "4. Validating"
      ]
    },
    {
      "cell_type": "code",
      "execution_count": 29,
      "metadata": {
        "colab": {
          "base_uri": "https://localhost:8080/"
        },
        "id": "sfY3tHoKlBWD",
        "outputId": "34415a03-8bf8-4f7d-ab9d-283f32a6fc15"
      },
      "outputs": [
        {
          "name": "stdout",
          "output_type": "stream",
          "text": [
            "Epoch 1/20\n",
            "30/30 [==============================] - 1s 46ms/step - loss: 2.4018e-09 - accuracy: 1.0000 - val_loss: 2.2848 - val_accuracy: 0.8642\n",
            "Epoch 2/20\n",
            "30/30 [==============================] - 1s 40ms/step - loss: 2.3713e-09 - accuracy: 1.0000 - val_loss: 2.2870 - val_accuracy: 0.8642\n",
            "Epoch 3/20\n",
            "30/30 [==============================] - 1s 38ms/step - loss: 2.3419e-09 - accuracy: 1.0000 - val_loss: 2.2888 - val_accuracy: 0.8644\n",
            "Epoch 4/20\n",
            "30/30 [==============================] - 1s 37ms/step - loss: 2.3146e-09 - accuracy: 1.0000 - val_loss: 2.2910 - val_accuracy: 0.8641\n",
            "Epoch 5/20\n",
            "30/30 [==============================] - 1s 37ms/step - loss: 2.2895e-09 - accuracy: 1.0000 - val_loss: 2.2928 - val_accuracy: 0.8643\n",
            "Epoch 6/20\n",
            "30/30 [==============================] - 1s 38ms/step - loss: 2.2501e-09 - accuracy: 1.0000 - val_loss: 2.2956 - val_accuracy: 0.8641\n",
            "Epoch 7/20\n",
            "30/30 [==============================] - 1s 37ms/step - loss: 2.2375e-09 - accuracy: 1.0000 - val_loss: 2.2967 - val_accuracy: 0.8643\n",
            "Epoch 8/20\n",
            "30/30 [==============================] - 1s 37ms/step - loss: 2.2124e-09 - accuracy: 1.0000 - val_loss: 2.2994 - val_accuracy: 0.8641\n",
            "Epoch 9/20\n",
            "30/30 [==============================] - 1s 37ms/step - loss: 2.1915e-09 - accuracy: 1.0000 - val_loss: 2.3006 - val_accuracy: 0.8642\n",
            "Epoch 10/20\n",
            "30/30 [==============================] - 1s 37ms/step - loss: 2.1620e-09 - accuracy: 1.0000 - val_loss: 2.3030 - val_accuracy: 0.8640\n",
            "Epoch 11/20\n",
            "30/30 [==============================] - 1s 40ms/step - loss: 2.1409e-09 - accuracy: 1.0000 - val_loss: 2.3047 - val_accuracy: 0.8640\n",
            "Epoch 12/20\n",
            "30/30 [==============================] - 1s 38ms/step - loss: 2.1242e-09 - accuracy: 1.0000 - val_loss: 2.3056 - val_accuracy: 0.8644\n",
            "Epoch 13/20\n",
            "30/30 [==============================] - 1s 37ms/step - loss: 2.0950e-09 - accuracy: 1.0000 - val_loss: 2.3078 - val_accuracy: 0.8641\n",
            "Epoch 14/20\n",
            "30/30 [==============================] - 1s 37ms/step - loss: 2.0905e-09 - accuracy: 1.0000 - val_loss: 2.3100 - val_accuracy: 0.8638\n",
            "Epoch 15/20\n",
            "30/30 [==============================] - 1s 38ms/step - loss: 2.0657e-09 - accuracy: 1.0000 - val_loss: 2.3120 - val_accuracy: 0.8637\n",
            "Epoch 16/20\n",
            "30/30 [==============================] - 1s 37ms/step - loss: 2.0517e-09 - accuracy: 1.0000 - val_loss: 2.3136 - val_accuracy: 0.8637\n",
            "Epoch 17/20\n",
            "30/30 [==============================] - 1s 38ms/step - loss: 2.0366e-09 - accuracy: 1.0000 - val_loss: 2.3156 - val_accuracy: 0.8636\n",
            "Epoch 18/20\n",
            "30/30 [==============================] - 1s 38ms/step - loss: 2.0161e-09 - accuracy: 1.0000 - val_loss: 2.3170 - val_accuracy: 0.8636\n",
            "Epoch 19/20\n",
            "30/30 [==============================] - 1s 38ms/step - loss: 2.0032e-09 - accuracy: 1.0000 - val_loss: 2.3185 - val_accuracy: 0.8635\n",
            "Epoch 20/20\n",
            "30/30 [==============================] - 1s 37ms/step - loss: 1.9768e-09 - accuracy: 1.0000 - val_loss: 2.3206 - val_accuracy: 0.8634\n"
          ]
        }
      ],
      "source": [
        "x_val=x_train[:10000]\n",
        "partial_x_train=x_train[10000:]\n",
        "\n",
        "y_val=y_train[:10000]\n",
        "partial_y_train=y_train[10000:]\n",
        "\n",
        "history=model.fit(partial_x_train,\n",
        "                 partial_y_train,\n",
        "                 epochs=20,\n",
        "                 batch_size=512,\n",
        "                 validation_data=(x_val,y_val))\n",
        "history_dict = history.history\n",
        "history_dict.keys()              \n",
        "accuracy_first=history.history['accuracy']\n",
        "val_of_accuracy_first=['val_of_accuracy']"
      ]
    },
    {
      "cell_type": "markdown",
      "metadata": {
        "id": "hsh1DCUypjnF"
      },
      "source": [
        "Visualization"
      ]
    },
    {
      "cell_type": "code",
      "execution_count": 13,
      "metadata": {
        "colab": {
          "base_uri": "https://localhost:8080/",
          "height": 295
        },
        "id": "bIn26_hclLJt",
        "outputId": "c02b8ec5-4486-4c57-b39b-7498ea12d679"
      },
      "outputs": [
        {
          "data": {
            "image/png": "[encoded data removed]",
            "text/plain": [
              "<Figure size 432x288 with 1 Axes>"
            ]
          },
          "metadata": {
            "needs_background": "light"
          },
          "output_type": "display_data"
        }
      ],
      "source": [
        "import matplotlib.pyplot as plt\n",
        "\n",
        "accuracy = history.history['accuracy']\n",
        "val_of_accuracy = history.history['val_accuracy']\n",
        "loss = history.history['loss']\n",
        "val_of_loss = history.history['val_loss']\n",
        "\n",
        "epochs = range(1, len(accuracy) + 1)\n",
        "\n",
        "\n",
        "plt.plot(epochs, loss, 'bo', label='Training loss')\n",
        "plt.plot(epochs, val_loss, 'b', label='Validation loss')\n",
        "plt.title('Training and validation loss')\n",
        "plt.xlabel('Epochs')\n",
        "plt.ylabel('Loss')\n",
        "plt.legend()\n",
        "\n",
        "plt.show()"
      ]
    },
    {
      "cell_type": "code",
      "execution_count": 14,
      "metadata": {
        "colab": {
          "base_uri": "https://localhost:8080/",
          "height": 295
        },
        "id": "X3QnKI3Ylocq",
        "outputId": "c7555f5b-a509-40cc-842d-cec7be2e3a15"
      },
      "outputs": [
        {
          "data": {
            "image/png": "[encoded data removed]",
            "text/plain": [
              "<Figure size 432x288 with 1 Axes>"
            ]
          },
          "metadata": {
            "needs_background": "light"
          },
          "output_type": "display_data"
        }
      ],
      "source": [
        "plt.clf() \n",
        "plt.plot(epochs, accuracy, 'bo', label='Training accuracy')\n",
        "plt.plot(epochs, val_of_accuracy, 'b', label='Validation accuracy')\n",
        "plt.title('Training and validation accuracy')\n",
        "plt.xlabel('Epochs')\n",
        "plt.ylabel('Accuracy')\n",
        "plt.legend()\n",
        "\n",
        "plt.show()"
      ]
    },
    {
      "cell_type": "markdown",
      "metadata": {
        "id": "QC7b2vlEoetf"
      },
      "source": [
        "# Additional experiments"
      ]
    },
    {
      "cell_type": "markdown",
      "metadata": {
        "id": "a0sa6XllqkIw"
      },
      "source": [
        "Reducing 1 hidden layer\n",
        "=> Use single hidden layer "
      ]
    },
    {
      "cell_type": "code",
      "execution_count": 26,
      "metadata": {
        "colab": {
          "base_uri": "https://localhost:8080/"
        },
        "id": "sDgxOFnMp1PN",
        "outputId": "652fa585-385f-4323-f596-50fe6d57fd89"
      },
      "outputs": [
        {
          "name": "stdout",
          "output_type": "stream",
          "text": [
            "Epoch 1/20\n",
            "30/30 [==============================] - 2s 55ms/step - loss: 8.1612e-08 - accuracy: 1.0000 - val_loss: 1.8796 - val_accuracy: 0.8637\n",
            "Epoch 2/20\n",
            "30/30 [==============================] - 1s 39ms/step - loss: 5.9692e-08 - accuracy: 1.0000 - val_loss: 1.9166 - val_accuracy: 0.8641\n",
            "Epoch 3/20\n",
            "30/30 [==============================] - 1s 37ms/step - loss: 4.5879e-08 - accuracy: 1.0000 - val_loss: 1.9413 - val_accuracy: 0.8634\n",
            "Epoch 4/20\n",
            "30/30 [==============================] - 1s 40ms/step - loss: 3.5733e-08 - accuracy: 1.0000 - val_loss: 1.9686 - val_accuracy: 0.8639\n",
            "Epoch 5/20\n",
            "30/30 [==============================] - 1s 38ms/step - loss: 2.9132e-08 - accuracy: 1.0000 - val_loss: 1.9911 - val_accuracy: 0.8640\n",
            "Epoch 6/20\n",
            "30/30 [==============================] - 1s 41ms/step - loss: 2.3530e-08 - accuracy: 1.0000 - val_loss: 2.0125 - val_accuracy: 0.8636\n",
            "Epoch 7/20\n",
            "30/30 [==============================] - 2s 66ms/step - loss: 1.9734e-08 - accuracy: 1.0000 - val_loss: 2.0314 - val_accuracy: 0.8638\n",
            "Epoch 8/20\n",
            "30/30 [==============================] - 2s 61ms/step - loss: 1.6988e-08 - accuracy: 1.0000 - val_loss: 2.0510 - val_accuracy: 0.8635\n",
            "Epoch 9/20\n",
            "30/30 [==============================] - 1s 38ms/step - loss: 1.4819e-08 - accuracy: 1.0000 - val_loss: 2.0658 - val_accuracy: 0.8634\n",
            "Epoch 10/20\n",
            "30/30 [==============================] - 1s 38ms/step - loss: 1.2906e-08 - accuracy: 1.0000 - val_loss: 2.0782 - val_accuracy: 0.8633\n",
            "Epoch 11/20\n",
            "30/30 [==============================] - 1s 37ms/step - loss: 1.1529e-08 - accuracy: 1.0000 - val_loss: 2.0900 - val_accuracy: 0.8639\n",
            "Epoch 12/20\n",
            "30/30 [==============================] - 1s 39ms/step - loss: 1.0419e-08 - accuracy: 1.0000 - val_loss: 2.1019 - val_accuracy: 0.8638\n",
            "Epoch 13/20\n",
            "30/30 [==============================] - 1s 37ms/step - loss: 9.4269e-09 - accuracy: 1.0000 - val_loss: 2.1122 - val_accuracy: 0.8638\n",
            "Epoch 14/20\n",
            "30/30 [==============================] - 1s 37ms/step - loss: 8.6496e-09 - accuracy: 1.0000 - val_loss: 2.1225 - val_accuracy: 0.8633\n",
            "Epoch 15/20\n",
            "30/30 [==============================] - 1s 37ms/step - loss: 7.9955e-09 - accuracy: 1.0000 - val_loss: 2.1305 - val_accuracy: 0.8637\n",
            "Epoch 16/20\n",
            "30/30 [==============================] - 1s 40ms/step - loss: 7.4020e-09 - accuracy: 1.0000 - val_loss: 2.1392 - val_accuracy: 0.8637\n",
            "Epoch 17/20\n",
            "30/30 [==============================] - 1s 37ms/step - loss: 6.9063e-09 - accuracy: 1.0000 - val_loss: 2.1472 - val_accuracy: 0.8634\n",
            "Epoch 18/20\n",
            "30/30 [==============================] - 1s 37ms/step - loss: 6.4596e-09 - accuracy: 1.0000 - val_loss: 2.1550 - val_accuracy: 0.8632\n",
            "Epoch 19/20\n",
            "30/30 [==============================] - 1s 38ms/step - loss: 6.0926e-09 - accuracy: 1.0000 - val_loss: 2.1619 - val_accuracy: 0.8634\n",
            "Epoch 20/20\n",
            "30/30 [==============================] - 1s 41ms/step - loss: 5.7314e-09 - accuracy: 1.0000 - val_loss: 2.1681 - val_accuracy: 0.8636\n"
          ]
        }
      ],
      "source": [
        "model_second=models.Sequential()\n",
        "model_second.add(layers.Dense(16,activation='relu',input_shape=(10000,)))\n",
        "model_second.add(layers.Dense(1,activation='sigmoid'))\n",
        "model_second.compile(optimizer='rmsprop',\n",
        "              loss='binary_crossentropy',\n",
        "              metrics=['accuracy'])\n",
        "\n",
        "history_second=model.fit(partial_x_train,\n",
        "                 partial_y_train,\n",
        "                 epochs=20,\n",
        "                 batch_size=512,\n",
        "                 validation_data=(x_val,y_val))\n",
        "history_dict_second = history.history \n"
      ]
    },
    {
      "cell_type": "markdown",
      "metadata": {
        "id": "YVbsL1oTqwTK"
      },
      "source": [
        "Adding multiple hidden layer"
      ]
    },
    {
      "cell_type": "code",
      "execution_count": 27,
      "metadata": {
        "colab": {
          "base_uri": "https://localhost:8080/"
        },
        "id": "oBDTq83Eq43l",
        "outputId": "62da643c-4102-4428-90ce-934a6c8e3892"
      },
      "outputs": [
        {
          "name": "stdout",
          "output_type": "stream",
          "text": [
            "Epoch 1/20\n",
            "30/30 [==============================] - 1s 42ms/step - loss: 5.4268e-09 - accuracy: 1.0000 - val_loss: 2.1752 - val_accuracy: 0.8632\n",
            "Epoch 2/20\n",
            "30/30 [==============================] - 1s 37ms/step - loss: 5.1983e-09 - accuracy: 1.0000 - val_loss: 2.1798 - val_accuracy: 0.8636\n",
            "Epoch 3/20\n",
            "30/30 [==============================] - 1s 37ms/step - loss: 4.9252e-09 - accuracy: 1.0000 - val_loss: 2.1853 - val_accuracy: 0.8636\n",
            "Epoch 4/20\n",
            "30/30 [==============================] - 1s 37ms/step - loss: 4.7072e-09 - accuracy: 1.0000 - val_loss: 2.1913 - val_accuracy: 0.8633\n",
            "Epoch 5/20\n",
            "30/30 [==============================] - 1s 37ms/step - loss: 4.5152e-09 - accuracy: 1.0000 - val_loss: 2.1965 - val_accuracy: 0.8633\n",
            "Epoch 6/20\n",
            "30/30 [==============================] - 1s 37ms/step - loss: 4.3442e-09 - accuracy: 1.0000 - val_loss: 2.2011 - val_accuracy: 0.8636\n",
            "Epoch 7/20\n",
            "30/30 [==============================] - 1s 36ms/step - loss: 4.1689e-09 - accuracy: 1.0000 - val_loss: 2.2064 - val_accuracy: 0.8634\n",
            "Epoch 8/20\n",
            "30/30 [==============================] - 1s 37ms/step - loss: 4.0152e-09 - accuracy: 1.0000 - val_loss: 2.2118 - val_accuracy: 0.8633\n",
            "Epoch 9/20\n",
            "30/30 [==============================] - 1s 37ms/step - loss: 3.8944e-09 - accuracy: 1.0000 - val_loss: 2.2160 - val_accuracy: 0.8632\n",
            "Epoch 10/20\n",
            "30/30 [==============================] - 1s 37ms/step - loss: 3.7613e-09 - accuracy: 1.0000 - val_loss: 2.2196 - val_accuracy: 0.8630\n",
            "Epoch 11/20\n",
            "30/30 [==============================] - 1s 37ms/step - loss: 3.6402e-09 - accuracy: 1.0000 - val_loss: 2.2240 - val_accuracy: 0.8632\n",
            "Epoch 12/20\n",
            "30/30 [==============================] - 1s 38ms/step - loss: 3.5348e-09 - accuracy: 1.0000 - val_loss: 2.2277 - val_accuracy: 0.8632\n",
            "Epoch 13/20\n",
            "30/30 [==============================] - 1s 38ms/step - loss: 3.4326e-09 - accuracy: 1.0000 - val_loss: 2.2311 - val_accuracy: 0.8635\n",
            "Epoch 14/20\n",
            "30/30 [==============================] - 1s 37ms/step - loss: 3.3325e-09 - accuracy: 1.0000 - val_loss: 2.2351 - val_accuracy: 0.8634\n",
            "Epoch 15/20\n",
            "30/30 [==============================] - 1s 38ms/step - loss: 3.2391e-09 - accuracy: 1.0000 - val_loss: 2.2392 - val_accuracy: 0.8633\n",
            "Epoch 16/20\n",
            "30/30 [==============================] - 1s 37ms/step - loss: 3.1542e-09 - accuracy: 1.0000 - val_loss: 2.2436 - val_accuracy: 0.8633\n",
            "Epoch 17/20\n",
            "30/30 [==============================] - 1s 37ms/step - loss: 3.0910e-09 - accuracy: 1.0000 - val_loss: 2.2466 - val_accuracy: 0.8634\n",
            "Epoch 18/20\n",
            "30/30 [==============================] - 1s 41ms/step - loss: 3.0147e-09 - accuracy: 1.0000 - val_loss: 2.2497 - val_accuracy: 0.8635\n",
            "Epoch 19/20\n",
            "30/30 [==============================] - 1s 41ms/step - loss: 2.9394e-09 - accuracy: 1.0000 - val_loss: 2.2531 - val_accuracy: 0.8635\n",
            "Epoch 20/20\n",
            "30/30 [==============================] - 1s 41ms/step - loss: 2.8896e-09 - accuracy: 1.0000 - val_loss: 2.2557 - val_accuracy: 0.8635\n"
          ]
        }
      ],
      "source": [
        "model_third=models.Sequential()\n",
        "model_third.add(layers.Dense(16,activation='relu',input_shape=(10000,)))\n",
        "model_third.add(layers.Dense(16,activation='relu'))\n",
        "model_third.add(layers.Dense(16,activation='relu'))\n",
        "model_third.add(layers.Dense(16,activation='relu'))\n",
        "model_third.add(layers.Dense(16,activation='relu'))\n",
        "model_third.add(layers.Dense(16,activation='relu'))\n",
        "model_third.add(layers.Dense(16,activation='relu'))\n",
        "model_third.add(layers.Dense(1,activation='sigmoid'))\n",
        "model_third.compile(optimizer='rmsprop',\n",
        "              loss='binary_crossentropy',\n",
        "              metrics=['accuracy'])\n",
        "\n",
        "history_third=model.fit(partial_x_train,\n",
        "                 partial_y_train,\n",
        "                 epochs=20,\n",
        "                 batch_size=512,\n",
        "                 validation_data=(x_val,y_val))\n",
        "history_dict_third= history.history\n"
      ]
    },
    {
      "cell_type": "markdown",
      "metadata": {
        "id": "BppHd6oSsayN"
      },
      "source": [
        "Reducing epoch size"
      ]
    },
    {
      "cell_type": "code",
      "execution_count": 28,
      "metadata": {
        "colab": {
          "base_uri": "https://localhost:8080/"
        },
        "id": "NcKP6JLHseTv",
        "outputId": "13430c2e-f48e-484e-a715-ac377aeb71cd"
      },
      "outputs": [
        {
          "name": "stdout",
          "output_type": "stream",
          "text": [
            "Epoch 1/10\n",
            "30/30 [==============================] - 1s 50ms/step - loss: 2.8241e-09 - accuracy: 1.0000 - val_loss: 2.2584 - val_accuracy: 0.8635\n",
            "Epoch 2/10\n",
            "30/30 [==============================] - 1s 37ms/step - loss: 2.7589e-09 - accuracy: 1.0000 - val_loss: 2.2613 - val_accuracy: 0.8635\n",
            "Epoch 3/10\n",
            "30/30 [==============================] - 1s 38ms/step - loss: 2.7202e-09 - accuracy: 1.0000 - val_loss: 2.2648 - val_accuracy: 0.8635\n",
            "Epoch 4/10\n",
            "30/30 [==============================] - 1s 38ms/step - loss: 2.6829e-09 - accuracy: 1.0000 - val_loss: 2.2670 - val_accuracy: 0.8635\n",
            "Epoch 5/10\n",
            "30/30 [==============================] - 1s 38ms/step - loss: 2.6274e-09 - accuracy: 1.0000 - val_loss: 2.2706 - val_accuracy: 0.8640\n",
            "Epoch 6/10\n",
            "30/30 [==============================] - 1s 37ms/step - loss: 2.5747e-09 - accuracy: 1.0000 - val_loss: 2.2732 - val_accuracy: 0.8641\n",
            "Epoch 7/10\n",
            "30/30 [==============================] - 1s 38ms/step - loss: 2.5392e-09 - accuracy: 1.0000 - val_loss: 2.2751 - val_accuracy: 0.8638\n",
            "Epoch 8/10\n",
            "30/30 [==============================] - 1s 37ms/step - loss: 2.5123e-09 - accuracy: 1.0000 - val_loss: 2.2776 - val_accuracy: 0.8639\n",
            "Epoch 9/10\n",
            "30/30 [==============================] - 1s 37ms/step - loss: 2.4664e-09 - accuracy: 1.0000 - val_loss: 2.2795 - val_accuracy: 0.8638\n",
            "Epoch 10/10\n",
            "30/30 [==============================] - 1s 37ms/step - loss: 2.4234e-09 - accuracy: 1.0000 - val_loss: 2.2819 - val_accuracy: 0.8640\n"
          ]
        }
      ],
      "source": [
        "model_fourth=models.Sequential()\n",
        "model_fourth.add(layers.Dense(16,activation='relu',input_shape=(10000,)))\n",
        "model_fourth.add(layers.Dense(16,activation='relu'))\n",
        "model_fourth.add(layers.Dense(16,activation='relu'))\n",
        "model_fourth.add(layers.Dense(16,activation='relu'))\n",
        "model_fourth.add(layers.Dense(16,activation='relu'))\n",
        "model_fourth.add(layers.Dense(16,activation='relu'))\n",
        "model_fourth.add(layers.Dense(16,activation='relu'))\n",
        "model_fourth.add(layers.Dense(1,activation='sigmoid'))\n",
        "model_fourth.compile(optimizer='rmsprop',\n",
        "              loss='binary_crossentropy',\n",
        "              metrics=['accuracy'])\n",
        "\n",
        "history_fourth=model.fit(partial_x_train,\n",
        "                 partial_y_train,\n",
        "                 epochs=10,\n",
        "                 batch_size=512,\n",
        "                 validation_data=(x_val,y_val))\n",
        "history_dict_fourth= history.history"
      ]
    }
  ],
  "metadata": {
    "colab": {
      "collapsed_sections": [],
      "provenance": []
    },
    "kernelspec": {
      "display_name": "Python 3",
      "name": "python3"
    },
    "language_info": {
      "name": "python"
    }
  },
  "nbformat": 4,
  "nbformat_minor": 0
}
